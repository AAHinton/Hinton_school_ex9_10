{
 "cells": [
  {
   "cell_type": "code",
   "execution_count": 1,
   "id": "061e1e2d-11d1-4a68-8ac5-e72952322ec9",
   "metadata": {},
   "outputs": [],
   "source": [
    "cheeses = ['Cheddar', 'Edam', 'Gouda']"
   ]
  },
  {
   "cell_type": "code",
   "execution_count": 2,
   "id": "4a33611c-63a6-4553-bc8b-c2bf418e4c02",
   "metadata": {},
   "outputs": [
    {
     "name": "stdout",
     "output_type": "stream",
     "text": [
      "Cheddar\n",
      "Edam\n",
      "Gouda\n"
     ]
    }
   ],
   "source": [
    "for cheese in cheeses:\n",
    "    print(cheese)\n",
    "    "
   ]
  },
  {
   "cell_type": "code",
   "execution_count": 3,
   "id": "10e345c8-26ac-4bfc-a551-b5b564c306c3",
   "metadata": {},
   "outputs": [],
   "source": [
    "numbers=[42, 5]"
   ]
  },
  {
   "cell_type": "code",
   "execution_count": 4,
   "id": "412f810c-c63f-4f8c-a5e2-ec5aa122698c",
   "metadata": {},
   "outputs": [],
   "source": [
    "for i in range(len(numbers)):\n",
    "    numbers[i] = numbers[i]*2"
   ]
  },
  {
   "cell_type": "code",
   "execution_count": 5,
   "id": "24c5118d-f74b-4b29-bd02-aadfb3afe7a2",
   "metadata": {},
   "outputs": [],
   "source": [
    "for x in []:\n",
    "    print('This never happens.')"
   ]
  },
  {
   "cell_type": "code",
   "execution_count": 6,
   "id": "04aa52df-b1ff-4432-bcf7-644effc69d43",
   "metadata": {},
   "outputs": [],
   "source": [
    "def capitalize_all(t):\n",
    "    res=[]\n",
    "    for s in t:\n",
    "        res.append(s.capitalize())\n",
    "    return res"
   ]
  },
  {
   "cell_type": "code",
   "execution_count": 7,
   "id": "ae2b3fdc-7c5b-440f-b6d5-18117887ffab",
   "metadata": {},
   "outputs": [],
   "source": [
    "def only_upper(t):\n",
    "    res=[]\n",
    "    for s in t:\n",
    "        if s.isupper():\n",
    "            res.append(s)\n",
    "        return res"
   ]
  },
  {
   "cell_type": "code",
   "execution_count": 8,
   "id": "420c6fe9-8c4c-439a-bb9d-931d462f60b1",
   "metadata": {},
   "outputs": [],
   "source": [
    "def nested_sum(A):\n",
    "    total = 0\n",
    "    for i in A:\n",
    "        if isinstance(i,list):\n",
    "            total += nested_sum(i)\n",
    "        else:\n",
    "            total += i\n",
    "    return total\n",
    "\n",
    "t=[[1,2],[3],[4,5,6]]"
   ]
  },
  {
   "cell_type": "code",
   "execution_count": 10,
   "id": "57d5dd51-6ab9-4ba0-bc8f-75c40579f197",
   "metadata": {},
   "outputs": [
    {
     "name": "stdout",
     "output_type": "stream",
     "text": [
      "21\n"
     ]
    }
   ],
   "source": [
    "print (nested_sum(t))"
   ]
  },
  {
   "cell_type": "code",
   "execution_count": 11,
   "id": "196730b2-634b-405c-8678-ec3bd34be2f8",
   "metadata": {},
   "outputs": [],
   "source": [
    "def cumsum(l):\n",
    "\ttotal = 0\n",
    "\tfor i in range(len(l)):\n",
    "\t\ttotal += l[i]\n",
    "\t\tl[i] = total\n",
    "\treturn l"
   ]
  },
  {
   "cell_type": "code",
   "execution_count": 12,
   "id": "925ed53a-0455-4ce4-953c-b152159a51fc",
   "metadata": {},
   "outputs": [],
   "source": [
    "t=[1,2,3]"
   ]
  },
  {
   "cell_type": "code",
   "execution_count": 13,
   "id": "03044701-dc36-4800-ab5f-1fe33686effa",
   "metadata": {},
   "outputs": [
    {
     "name": "stdout",
     "output_type": "stream",
     "text": [
      "[1, 3, 6]\n"
     ]
    }
   ],
   "source": [
    "print(cumsum(t))"
   ]
  },
  {
   "cell_type": "code",
   "execution_count": 14,
   "id": "c2376819-fd43-41c1-94ee-0c2dbc5a44a3",
   "metadata": {},
   "outputs": [
    {
     "name": "stdout",
     "output_type": "stream",
     "text": [
      "[2, 7, 14]\n"
     ]
    }
   ],
   "source": [
    "e=[2,5,7]\n",
    "print(cumsum(e))"
   ]
  },
  {
   "cell_type": "code",
   "execution_count": null,
   "id": "f1537deb-b0bc-45bf-a9bd-7346c99f22ad",
   "metadata": {},
   "outputs": [],
   "source": []
  }
 ],
 "metadata": {
  "kernelspec": {
   "display_name": "Python 3 (ipykernel)",
   "language": "python",
   "name": "python3"
  },
  "language_info": {
   "codemirror_mode": {
    "name": "ipython",
    "version": 3
   },
   "file_extension": ".py",
   "mimetype": "text/x-python",
   "name": "python",
   "nbconvert_exporter": "python",
   "pygments_lexer": "ipython3",
   "version": "3.12.3"
  }
 },
 "nbformat": 4,
 "nbformat_minor": 5
}
